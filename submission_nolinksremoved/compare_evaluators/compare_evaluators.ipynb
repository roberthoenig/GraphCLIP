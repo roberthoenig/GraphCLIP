{
 "cells": [
  {
   "cell_type": "markdown",
   "metadata": {},
   "source": [
    "# Compare EPViT with the baselines CLIP and histogram"
   ]
  },
  {
   "cell_type": "code",
   "execution_count": null,
   "metadata": {},
   "outputs": [],
   "source": [
    "import relational_image_generation_evaluation as rige"
   ]
  },
  {
   "cell_type": "markdown",
   "metadata": {},
   "source": [
    "### Datasets"
   ]
  },
  {
   "cell_type": "code",
   "execution_count": null,
   "metadata": {},
   "outputs": [],
   "source": [
    "dataset_daa = rige.get_adversarial_attribute_dataset()\n",
    "\n",
    "def graph_to_caption(graph):\n",
    "    sid, oid = list(graph.edges)[0]\n",
    "    rel = graph.edges[(sid, oid)]['predicate']\n",
    "    os = graph.nodes[sid]['name']\n",
    "    ats = graph.nodes[sid]['attributes']\n",
    "    oo = graph.nodes[oid]['name']\n",
    "    ato = graph.nodes[oid]['attributes']\n",
    "    rel_str = f\"{','.join(ats)} {os} {rel} {','.join(ato)} {oo}\".strip().lower()\n",
    "    rel_str += '.'\n",
    "    return rel_str\n",
    "\n",
    "import random\n",
    "random.seed(123456)\n",
    "\n",
    "datasets = [(\"daa\", dataset_daa)]"
   ]
  },
  {
   "cell_type": "markdown",
   "metadata": {},
   "source": [
    "### Evaluation"
   ]
  },
  {
   "cell_type": "code",
   "execution_count": null,
   "metadata": {},
   "outputs": [],
   "source": [
    "from PIL import Image\n",
    "def evaluate(evaluator, dataset):\n",
    "    orig_graphs = []\n",
    "    adv_graphs = []\n",
    "    images = []\n",
    "    for sample in dataset:\n",
    "        orig_graph = sample['original_graph']\n",
    "        orig_graphs.append(orig_graph)\n",
    "        adv_graph = sample['adv_graph']\n",
    "        adv_graphs.append(adv_graph)\n",
    "        image_id = orig_graph.image_id\n",
    "        assert orig_graph.image_id == adv_graph.image_id\n",
    "        # adapt to your local directory\n",
    "        try:\n",
    "            IMAGE_DIR = '../datasets/visual_genome/raw/VG_100K/'\n",
    "            image = Image.open(IMAGE_DIR + str(image_id) + '.jpg')\n",
    "        except:\n",
    "            IMAGE_DIR = '../datasets/visual_genome/raw/VG_100K_2/'\n",
    "            image = Image.open(IMAGE_DIR + str(image_id) + '.jpg')\n",
    "        images.append(image)\n",
    "    orig_scores = evaluator(images, orig_graphs)\n",
    "    print(\".............................\")\n",
    "    adv_scores = evaluator(images, adv_graphs)\n",
    "    \n",
    "    if 'rel_scores' in orig_scores:\n",
    "    # EPViT...\n",
    "        n_correct = 0\n",
    "        n_total = len(dataset)\n",
    "        n_equal = 0\n",
    "        for i in range(n_total):\n",
    "            if orig_scores['attr_scores'][i] == 'noattributes':\n",
    "                orig_score = orig_scores['rel_scores'][i]\n",
    "            else:\n",
    "                orig_score = orig_scores['rel_scores'][i] + orig_scores['attr_scores'][i]\n",
    "            if adv_scores['attr_scores'][i] == 'noattributes':\n",
    "                adv_score = adv_scores['rel_scores'][i]\n",
    "            else:\n",
    "                adv_score = adv_scores['rel_scores'][i] + adv_scores['attr_scores'][i]\n",
    "            if orig_score > adv_score:\n",
    "                n_correct += 1\n",
    "            elif orig_score == adv_score:\n",
    "                n_correct += 0.5\n",
    "                n_equal += 1\n",
    "        print(\"n_equal\", n_equal)\n",
    "        acc = n_correct / n_total\n",
    "    elif 'overall_scores' in orig_scores:\n",
    "        n_correct = 0\n",
    "        n_total = len(dataset)\n",
    "        for i in range(n_total):\n",
    "            orig_score = orig_scores['overall_scores'][i]\n",
    "            adv_score = adv_scores['overall_scores'][i]\n",
    "            if orig_score > adv_score:\n",
    "                n_correct += 1\n",
    "            elif orig_score == adv_score:\n",
    "                n_correct += 0.5\n",
    "        acc = n_correct / n_total\n",
    "    res = {\n",
    "        'acc': acc\n",
    "    }\n",
    "    return res"
   ]
  },
  {
   "cell_type": "markdown",
   "metadata": {},
   "source": [
    "#### EPViT"
   ]
  },
  {
   "cell_type": "code",
   "execution_count": null,
   "metadata": {},
   "outputs": [],
   "source": [
    "evaluator_epvit = rige.Evaluator('ViT-L/14')\n",
    "for name, dataset in datasets:\n",
    "    acc = evaluate(evaluator_epvit, dataset)\n",
    "    print('epvit', name, acc)\n",
    "del evaluator_epvit"
   ]
  },
  {
   "cell_type": "markdown",
   "metadata": {},
   "source": [
    "#### CLIP ViT-L/14"
   ]
  },
  {
   "cell_type": "code",
   "execution_count": null,
   "metadata": {},
   "outputs": [],
   "source": [
    "evaluator_clip = rige.Evaluator('CLIP_ViT-L/14')\n",
    "for name, dataset in datasets:\n",
    "    acc = evaluate(evaluator_clip, dataset)\n",
    "    print('clip-l/14', name, acc)\n",
    "del evaluator_clip"
   ]
  },
  {
   "cell_type": "markdown",
   "metadata": {},
   "source": [
    "#### CLIP ViT-G/14"
   ]
  },
  {
   "cell_type": "code",
   "execution_count": null,
   "metadata": {},
   "outputs": [],
   "source": [
    "evaluator_clip = rige.Evaluator('CLIP_ViT-G/14')\n",
    "for name, dataset in [(\"dar\", dataset_dar)]:\n",
    "    acc = evaluate(evaluator_clip, dataset)\n",
    "    print('clip-G/14', name, acc)\n",
    "del evaluator_clip"
   ]
  },
  {
   "cell_type": "markdown",
   "metadata": {},
   "source": [
    "#### Histogram"
   ]
  },
  {
   "cell_type": "code",
   "execution_count": null,
   "metadata": {},
   "outputs": [],
   "source": [
    "evaluator_hist = rige.Evaluator('histogram')\n",
    "\n",
    "for name, dataset in datasets:\n",
    "    acc = evaluate(evaluator_hist, dataset)\n",
    "    print('histogram', name, acc)\n",
    "del evaluator_hist"
   ]
  }
 ],
 "metadata": {
  "kernelspec": {
   "display_name": "jonathan",
   "language": "python",
   "name": "python3"
  },
  "language_info": {
   "codemirror_mode": {
    "name": "ipython",
    "version": 3
   },
   "file_extension": ".py",
   "mimetype": "text/x-python",
   "name": "python",
   "nbconvert_exporter": "python",
   "pygments_lexer": "ipython3",
   "version": "3.10.9"
  },
  "orig_nbformat": 4
 },
 "nbformat": 4,
 "nbformat_minor": 2
}
